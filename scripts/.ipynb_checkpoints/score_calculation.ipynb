{
 "cells": [
  {
   "cell_type": "code",
   "execution_count": 1,
   "metadata": {},
   "outputs": [],
   "source": [
    "\"\"\"dx: distance in km,\n",
    "   dz: the height in m,\n",
    "   ps: the prestige, \n",
    "   np: the number of players, \n",
    "   v: the velocity in km/h\n",
    "   piazzamenti: the list of top placements\"\"\"\n",
    "l=5e-3                              \n",
    "d=2.5e-4\n",
    "punteggio_finale_o = lambda v,dx,dz,pr: dx*l*(dz*d+0.25)*(0.7+0.15*(pr-3)) if v<=25.0 else dx*l*(dz*d+0.25)*(0.7+0.15*(pr-3))*(1+0.05*(v-25.0)) \n",
    "\n",
    "punteggio_finale_f = lambda punteggio_finale_o,np,piazzamenti: int(round((punteggio_finale_o + (np-1)/10)*100,0))+11*len(piazzamenti)-sum(piazzamenti)\n",
    "\n",
    "def final_score(v,dx,dz,pr,np,piazzamenti):\n",
    "   p_f_o= punteggio_finale_o(v,dx,dz,pr)\n",
    "   return punteggio_finale_f(p_f_o,np,piazzamenti)"
   ]
  },
  {
   "cell_type": "code",
   "execution_count": 6,
   "metadata": {},
   "outputs": [
    {
     "data": {
      "text/plain": [
       "124"
      ]
     },
     "execution_count": 6,
     "metadata": {},
     "output_type": "execute_result"
    }
   ],
   "source": [
    "final_score(20.0,50,0,3,10,[1,1,1])"
   ]
  }
 ],
 "metadata": {
  "kernelspec": {
   "display_name": "flask_app",
   "language": "python",
   "name": "python3"
  },
  "language_info": {
   "codemirror_mode": {
    "name": "ipython",
    "version": 3
   },
   "file_extension": ".py",
   "mimetype": "text/x-python",
   "name": "python",
   "nbconvert_exporter": "python",
   "pygments_lexer": "ipython3",
   "version": "3.7.15"
  },
  "orig_nbformat": 4
 },
 "nbformat": 4,
 "nbformat_minor": 2
}
